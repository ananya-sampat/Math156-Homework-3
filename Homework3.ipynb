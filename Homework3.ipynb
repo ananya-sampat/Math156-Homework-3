{
 "cells": [
  {
   "cell_type": "code",
   "execution_count": 12,
   "metadata": {},
   "outputs": [],
   "source": [
    "from sklearn.datasets import load_breast_cancer\n",
    "import numpy as np\n",
    "import pandas as pd\n",
    "\n",
    "# Load dataset\n",
    "data = load_breast_cancer()\n",
    "X = data.data\n",
    "y = data.target  # 1 = malignant, 0 = benign\n",
    "\n"
   ]
  },
  {
   "cell_type": "code",
   "execution_count": 13,
   "metadata": {},
   "outputs": [
    {
     "name": "stdout",
     "output_type": "stream",
     "text": [
      "Train set size: 341 (Positive: 214, Negative: 127)\n",
      "Validation set size: 114 (Positive: 72, Negative: 42)\n",
      "Test set size: 114 (Positive: 71, Negative: 43)\n"
     ]
    }
   ],
   "source": [
    "from sklearn.model_selection import train_test_split\n",
    "\n",
    "# Split dataset: 60% train, 20% validation, 20% test\n",
    "X_train, X_temp, y_train, y_temp = train_test_split(X, y, test_size=0.4, random_state=42, stratify=y)\n",
    "X_val, X_test, y_val, y_test = train_test_split(X_temp, y_temp, test_size=0.5, random_state=42, stratify=y_temp)\n",
    "\n",
    "# Report dataset sizes\n",
    "print(f\"Train set size: {len(y_train)} (Positive: {sum(y_train)}, Negative: {len(y_train)-sum(y_train)})\")\n",
    "print(f\"Validation set size: {len(y_val)} (Positive: {sum(y_val)}, Negative: {len(y_val)-sum(y_val)})\")\n",
    "print(f\"Test set size: {len(y_test)} (Positive: {sum(y_test)}, Negative: {len(y_test)-sum(y_test)})\")\n"
   ]
  },
  {
   "cell_type": "code",
   "execution_count": 9,
   "metadata": {},
   "outputs": [],
   "source": [
    "class LogisticRegressionSGD:\n",
    "    def __init__(self, learning_rate=0.01, batch_size=32, max_iters=1000):\n",
    "        self.learning_rate = learning_rate\n",
    "        self.batch_size = batch_size\n",
    "        self.max_iters = max_iters\n",
    "        self.weights = None  # Model parameters\n",
    "\n",
    "    def sigmoid(self, z):\n",
    "        #z = np.clip(z, -500, 500)\n",
    "        return 1 / (1 + np.exp(-z))\n",
    "\n",
    "    def compute_loss(self, y_true, y_pred):\n",
    "        return -np.mean(y_true * np.log(y_pred) + (1 - y_true) * np.log(1 - y_pred))\n",
    "\n",
    "    def compute_gradient(self, X_batch, y_batch):\n",
    "        N = X_batch.shape[0]\n",
    "        y_pred = self.sigmoid(X_batch @ self.weights)\n",
    "        return (1 / N) * X_batch.T @ (y_pred - y_batch)\n",
    "\n",
    "    def fit(self, X, y):\n",
    "        N, D = X.shape\n",
    "        self.weights = np.random.randn(D) * 0.01  # Initialize weights with Gaussian distribution\n",
    "\n",
    "        for _ in range(self.max_iters):\n",
    "            indices = np.random.choice(N, self.batch_size, replace=False)\n",
    "            X_batch, y_batch = X[indices], y[indices]\n",
    "\n",
    "            gradient = self.compute_gradient(X_batch, y_batch)\n",
    "            self.weights -= self.learning_rate * gradient\n",
    "\n",
    "    def predict_proba(self, X):\n",
    "        return self.sigmoid(X @ self.weights)\n",
    "\n",
    "    def predict(self, X):\n",
    "        return (self.predict_proba(X) >= 0.5).astype(int)\n"
   ]
  },
  {
   "cell_type": "code",
   "execution_count": 10,
   "metadata": {},
   "outputs": [
    {
     "name": "stdout",
     "output_type": "stream",
     "text": [
      "Training model with learning_rate=0.001, batch_size=16\n",
      "Validation Accuracy: 0.8860\n",
      "Training model with learning_rate=0.001, batch_size=32\n",
      "Validation Accuracy: 0.7368\n",
      "Training model with learning_rate=0.001, batch_size=64\n",
      "Validation Accuracy: 0.7982\n",
      "Training model with learning_rate=0.01, batch_size=16\n",
      "Validation Accuracy: 0.8772\n",
      "Training model with learning_rate=0.01, batch_size=32\n",
      "Validation Accuracy: 0.8772\n",
      "Training model with learning_rate=0.01, batch_size=64\n",
      "Validation Accuracy: 0.9123\n",
      "Training model with learning_rate=0.1, batch_size=16\n",
      "Validation Accuracy: 0.8947\n",
      "Training model with learning_rate=0.1, batch_size=32\n",
      "Validation Accuracy: 0.8860\n",
      "Training model with learning_rate=0.1, batch_size=64\n",
      "Validation Accuracy: 0.9123\n"
     ]
    },
    {
     "name": "stderr",
     "output_type": "stream",
     "text": [
      "/var/folders/9b/sm5b5l596hq99n6_fvfyyf3r0000gp/T/ipykernel_87320/1529732454.py:10: RuntimeWarning: overflow encountered in exp\n",
      "  return 1 / (1 + np.exp(-z))\n"
     ]
    }
   ],
   "source": [
    "learning_rates = [0.001, 0.01, 0.1]\n",
    "batch_sizes = [16, 32, 64]\n",
    "\n",
    "best_model = None\n",
    "best_accuracy = 0\n",
    "\n",
    "for lr in learning_rates:\n",
    "    for batch_size in batch_sizes:\n",
    "        print(f\"Training model with learning_rate={lr}, batch_size={batch_size}\")\n",
    "        \n",
    "        model = LogisticRegressionSGD(learning_rate=lr, batch_size=batch_size, max_iters=1000)\n",
    "        model.fit(X_train, y_train)\n",
    "\n",
    "        y_val_pred = model.predict(X_val)\n",
    "        accuracy = np.mean(y_val_pred == y_val)\n",
    "\n",
    "        print(f\"Validation Accuracy: {accuracy:.4f}\")\n",
    "        \n",
    "        # Save the best model\n",
    "        if accuracy > best_accuracy:\n",
    "            best_accuracy = accuracy\n",
    "            best_model = model\n"
   ]
  },
  {
   "cell_type": "code",
   "execution_count": 11,
   "metadata": {},
   "outputs": [
    {
     "name": "stdout",
     "output_type": "stream",
     "text": [
      "\n",
      "Test Set Performance:\n",
      "Accuracy: 0.9123\n",
      "Precision: 0.9067\n",
      "Recall: 0.9577\n",
      "F1-score: 0.9315\n"
     ]
    },
    {
     "name": "stderr",
     "output_type": "stream",
     "text": [
      "/var/folders/9b/sm5b5l596hq99n6_fvfyyf3r0000gp/T/ipykernel_87320/1529732454.py:10: RuntimeWarning: overflow encountered in exp\n",
      "  return 1 / (1 + np.exp(-z))\n"
     ]
    }
   ],
   "source": [
    "from sklearn.metrics import accuracy_score, precision_score, recall_score, f1_score\n",
    "\n",
    "# Test model on the test set\n",
    "y_test_pred = best_model.predict(X_test)\n",
    "\n",
    "accuracy = accuracy_score(y_test, y_test_pred)\n",
    "precision = precision_score(y_test, y_test_pred)\n",
    "recall = recall_score(y_test, y_test_pred)\n",
    "f1 = f1_score(y_test, y_test_pred)\n",
    "\n",
    "print(f\"\\nTest Set Performance:\")\n",
    "print(f\"Accuracy: {accuracy:.4f}\")\n",
    "print(f\"Precision: {precision:.4f}\")\n",
    "print(f\"Recall: {recall:.4f}\")\n",
    "print(f\"F1-score: {f1:.4f}\")\n"
   ]
  },
  {
   "cell_type": "markdown",
   "metadata": {},
   "source": [
    "Summary: \n",
    "The logistic regression model demonstrated strong classification performance on the test set, achieving an accuracy of 91.23%, indicating overall reliability. With a precision of 90.67%, the model correctly identified malignant cases most of the time, though it occasionally misclassified benign cases as malignant (false positives). The recall of 95.77% shows that the model is highly sensitive, successfully detecting the majority of actual malignant cases, which is crucial in medical diagnosis. The F1-score of 93.15% confirms a well-balanced trade-off between precision and recall. While the model performs well, its slightly lower precision suggests that it could be improved by adjusting the decision threshold, applying regularization, or fine-tuning hyperparameters to reduce false positives. Additionally, the overflow encountered by the sigmoid function should be fixed by limiting z or using a numerically stable sigmoid. "
   ]
  }
 ],
 "metadata": {
  "kernelspec": {
   "display_name": "Python 3",
   "language": "python",
   "name": "python3"
  },
  "language_info": {
   "codemirror_mode": {
    "name": "ipython",
    "version": 3
   },
   "file_extension": ".py",
   "mimetype": "text/x-python",
   "name": "python",
   "nbconvert_exporter": "python",
   "pygments_lexer": "ipython3",
   "version": "3.9.6"
  }
 },
 "nbformat": 4,
 "nbformat_minor": 2
}
